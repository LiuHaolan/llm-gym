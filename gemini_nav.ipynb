{
  "nbformat": 4,
  "nbformat_minor": 0,
  "metadata": {
    "colab": {
      "provenance": [],
      "authorship_tag": "ABX9TyNblxYuqvsKj07l5oV79s+t",
      "include_colab_link": true
    },
    "kernelspec": {
      "name": "python3",
      "display_name": "Python 3"
    },
    "language_info": {
      "name": "python"
    }
  },
  "cells": [
    {
      "cell_type": "markdown",
      "metadata": {
        "id": "view-in-github",
        "colab_type": "text"
      },
      "source": [
        "<a href=\"https://colab.research.google.com/github/LiuHaolan/llm-gym/blob/main/gemini_nav.ipynb\" target=\"_parent\"><img src=\"https://colab.research.google.com/assets/colab-badge.svg\" alt=\"Open In Colab\"/></a>"
      ]
    },
    {
      "cell_type": "code",
      "source": [
        "!pip install -q llmx\n",
        "!pip install -q langchain\n",
        "!pip install -q google-generativeai langchain-google-genai\n",
        "!pip install -q sentence_transformers\n",
        "!pip install -q faiss-gpu\n",
        "import math\n",
        "import numpy as np\n",
        "import matplotlib.pyplot as plt\n",
        "import matplotlib.patches as patches\n",
        "from matplotlib.transforms import Affine2D\n",
        "import random\n",
        "from langchain.prompts import (\n",
        "    PromptTemplate,\n",
        "    FewShotPromptTemplate,\n",
        "    HumanMessagePromptTemplate,\n",
        "    ChatPromptTemplate,\n",
        ")\n",
        "from langchain_core.messages import SystemMessage\n",
        "from langchain.schema import (\n",
        "    AIMessage,\n",
        "    HumanMessage,\n",
        "    SystemMessage,\n",
        ")\n",
        "from langchain.prompts.example_selector.ngram_overlap import (\n",
        "    NGramOverlapExampleSelector\n",
        ")\n",
        "from langchain.prompts.example_selector import (\n",
        "    MaxMarginalRelevanceExampleSelector,\n",
        "    SemanticSimilarityExampleSelector,\n",
        "    LengthBasedExampleSelector,\n",
        ")\n",
        "from langchain_core.example_selectors.base import BaseExampleSelector\n",
        "from langchain_community.vectorstores import FAISS\n",
        "from langchain_community.embeddings import HuggingFaceBgeEmbeddings\n",
        "from langchain.chains import LLMChain\n",
        "from langchain_google_genai import ChatGoogleGenerativeAI\n",
        "from google.colab import userdata\n",
        "import textwrap\n",
        "from IPython.display import Markdown"
      ],
      "metadata": {
        "id": "fnQeN4VVvkOP"
      },
      "execution_count": 101,
      "outputs": []
    },
    {
      "cell_type": "code",
      "source": [
        "def to_markdown(text):\n",
        "  text = text.replace('•', '  *')\n",
        "  return Markdown(textwrap.indent(text, '> ', predicate=lambda _: True))\n",
        "\n",
        "GOOGLE_API_KEY=userdata.get('GOOGLE_API_KEY')\n",
        "model = ChatGoogleGenerativeAI(model=\"gemini-pro\",\n",
        "                               google_api_key=GOOGLE_API_KEY,\n",
        "                               convert_system_message_to_human=True)"
      ],
      "metadata": {
        "id": "31lLTHqtDv1D"
      },
      "execution_count": 102,
      "outputs": []
    },
    {
      "cell_type": "markdown",
      "source": [
        "Roadmap:\n",
        "\n",
        "- Generate reference path and check its length and if it hits obstacles (need to generate obstacles too)\n",
        "- Visualise\n",
        "- Generate motor movements (bicycle model)\n",
        "- Can add lanes\n",
        "- Then have obstacles moving too"
      ],
      "metadata": {
        "id": "BGqUgPKkJ8iN"
      }
    },
    {
      "cell_type": "markdown",
      "source": [
        "# Class Constructors"
      ],
      "metadata": {
        "id": "f2sKfmOx-7kk"
      }
    },
    {
      "cell_type": "code",
      "source": [
        "def tuple_to_string(tuple_object):\n",
        "    # Check if the input is a tuple\n",
        "    if not isinstance(tuple_object, tuple):\n",
        "        raise TypeError(\"Input must be a tuple.\")\n",
        "\n",
        "    # Join the elements of the tuple with commas\n",
        "    string_representation = ', '.join(map(str, tuple_object))\n",
        "\n",
        "    return \"(\" + string_representation + \")\"\n",
        "\n",
        "class Vehicle:\n",
        "  def __init__(self, center=(0, 0), yaw=0, width=3, height=3):\n",
        "    self.__center_x = center[0]\n",
        "    self.__center_y = center[1]\n",
        "    self.__yaw = yaw\n",
        "    self.__width = width\n",
        "    self.__height = height\n",
        "\n",
        "  def randomize_vehicle(self, x_range, y_range, yaw_range, width_range,\n",
        "                        height_range):\n",
        "    self.__center_x = random.uniform(*x_range)\n",
        "    self.__center_y = random.uniform(*y_range)\n",
        "    self.__yaw = random.uniform(*yaw_range)\n",
        "    self.__width = random.uniform(*width_range)\n",
        "    self.__height = random.uniform(*height_range)\n",
        "\n",
        "  def get_center(self):\n",
        "    return (self.__center_x, self.__center_y)\n",
        "\n",
        "  def get_yaw(self):\n",
        "    return self.__yaw\n",
        "\n",
        "  def get_width(self):\n",
        "    return self.__width\n",
        "\n",
        "  def get_height(self):\n",
        "    return self.__height\n",
        "\n",
        "  def __check_overlap(self, other_vehicle):\n",
        "    # Expand the bounding box slightly to ensure a gap between vehicles\n",
        "    expansion = 0.1\n",
        "    # (center_x, center_y, yaw, width, height)\n",
        "    v1_x1, v1_y1 = (self.__center_x - self.__width/2 - expansion,\n",
        "                    self.__center_y - self.__height/2 - expansion)\n",
        "    v1_x2, v1_y2 = (self.__center_x + self.__width/2 + expansion,\n",
        "                    self.__center_y + self.__height/2 + expansion)\n",
        "    v2_x1, v2_y1 = (other_vehicle.get_center()[0] - other_vehicle.get_width()/2\n",
        "                    - expansion, other_vehicle.get_center()[1]\n",
        "                    - other_vehicle.get_height()/2 - expansion)\n",
        "    v2_x2, v2_y2 = (other_vehicle.get_center()[0] + other_vehicle.get_width()/2\n",
        "                    + expansion, other_vehicle.get_center()[1]\n",
        "                    + other_vehicle.get_height()/2 + expansion)\n",
        "\n",
        "    # Check if there's any overlap\n",
        "    overlap_x = v1_x1 < v2_x2 and v1_x2 > v2_x1\n",
        "    overlap_y = v1_y1 < v2_y2 and v1_y2 > v2_y1\n",
        "    return overlap_x and overlap_y\n",
        "\n",
        "  def overlaps(self, other_vehicles):\n",
        "    for other_vehicle in other_vehicles:\n",
        "      if self.__check_overlap(other_vehicle):\n",
        "        return True\n",
        "\n",
        "    return False\n",
        "\n",
        "class Robot:\n",
        "  def __init__(self, pos_center=(0, 0), dest_center=(0, 0), radius=4,\n",
        "               orientation=0):\n",
        "    self.__center_x = pos_center[0]\n",
        "    self.__center_y = pos_center[1]\n",
        "    self.__radius = radius\n",
        "    self.__dest_x = dest_center[0]\n",
        "    self.__dest_y = dest_center[1]\n",
        "    self.__orientation = orientation\n",
        "\n",
        "  def get_position(self):\n",
        "    return (self.__center_x, self.__center_y)\n",
        "\n",
        "  def get_destination(self):\n",
        "    return (self.__dest_x, self.__dest_y)\n",
        "\n",
        "  def get_orientation(self):\n",
        "    return self.__orientation\n",
        "\n",
        "  def copy(self):\n",
        "    return Robot((self.__center_x, self.__center_y),\n",
        "     (self.__dest_x, self.__dest_y), self.__radius, self.__orientation)\n",
        "\n",
        "  def move_forward(self, dist):\n",
        "    orientation_radians = np.radians(self.__orientation)\n",
        "\n",
        "    new_x = self.__center_x + dist * math.cos(orientation_radians)\n",
        "    new_y = self.__center_y + dist * math.sin(orientation_radians)\n",
        "\n",
        "    self.__center_x = new_x\n",
        "    self.__center_y = new_y\n",
        "\n",
        "  def rotate(self, deg):\n",
        "    self.__orientation += deg\n",
        "\n",
        "  def is_position_safe(self, position, vehicles):\n",
        "    for vehicle in vehicles:\n",
        "      expanded_width = vehicle.get_width() / 2 + self.__radius\n",
        "      expanded_height = vehicle.get_height() / 2 + self.__radius\n",
        "      if (abs(position[0] - vehicle.get_center()[0]) < expanded_width\n",
        "          and abs(position[1] - vehicle.get_center()[1]) < expanded_height):\n",
        "        return False\n",
        "    return True\n",
        "\n",
        "  def __generate_safe_position(self, x_range, y_range, vehicles):\n",
        "    while True:\n",
        "      position = (random.uniform(*x_range), random.uniform(*y_range))\n",
        "      if self.is_position_safe(position, vehicles):\n",
        "          return position\n",
        "\n",
        "  def randomize_pos_dest(self, x_range, y_range, vehicles):\n",
        "    self.__center_x, self.__center_y = self.__generate_safe_position(x_range,\n",
        "                                                                     y_range,\n",
        "                                                                     vehicles)\n",
        "    self.__dest_x, self.__dest_y = self.__generate_safe_position(x_range,\n",
        "                                                                 y_range,\n",
        "                                                                 vehicles)\n",
        "    self.__orientation = random.uniform(0, 360)\n",
        "\n",
        "class Scenario:\n",
        "  def __init__(self, vehicle_range=(20, 50), x_range=(-100, 100),\n",
        "               y_range=(-100, 100), yaw_range=(0, 360), width_range=(1, 5),\n",
        "               height_range=(1, 5)):\n",
        "    self.__x_range = x_range\n",
        "    self.__y_range = y_range\n",
        "    # Generate vehicles ensuring no overlap\n",
        "    vehicles = []\n",
        "    # Maximum attempts to place each vehicle to avoid infinite loops\n",
        "    attempts_per_vehicle = 100\n",
        "\n",
        "    # Randomly decide the number of vehicles\n",
        "    num_vehicles = random.randint(*vehicle_range)\n",
        "\n",
        "    for _ in range(num_vehicles):\n",
        "        for _ in range(attempts_per_vehicle):\n",
        "            new_vehicle = Vehicle()\n",
        "            new_vehicle.randomize_vehicle(self.__x_range, y_range, yaw_range,\n",
        "                                          width_range, height_range)\n",
        "            if not new_vehicle.overlaps(vehicles):\n",
        "                vehicles.append(new_vehicle)\n",
        "                break\n",
        "\n",
        "    self.__vehicles = vehicles\n",
        "\n",
        "    self.__robot = Robot()\n",
        "    self.__robot.randomize_pos_dest(self.__x_range, self.__y_range, vehicles)\n",
        "\n",
        "    self.__path = None\n",
        "    # Example usage\n",
        "    # uncomment the path generation for your life\n",
        "    # self.__path = generate_rrt_star_path(original_position,\n",
        "    #                                      destination_position, vehicles,\n",
        "    #                                      robot_radius)\n",
        "\n",
        "  def get_vehicles(self):\n",
        "    return self.__vehicles\n",
        "\n",
        "  def get_robot(self):\n",
        "    return self.__robot\n",
        "\n",
        "  def get_map_range(self):\n",
        "    return self.__x_range, self.__y_range\n",
        "\n",
        "  def get_path(self):\n",
        "    return self.__path\n",
        "\n",
        "  def describe(self):\n",
        "    vehicles_string = \"\"\n",
        "\n",
        "    for vehicle in self.__vehicles:\n",
        "      vehicles_string += \"- {0}, {1}, {2} \\n\".format(\n",
        "          tuple_to_string(vehicle.get_center()),\n",
        "          vehicle.get_yaw(),\n",
        "          tuple_to_string((vehicle.get_width(), vehicle.get_height())))\n",
        "\n",
        "    return (str(self.__x_range), str(self.__y_range), vehicles_string,\n",
        "            tuple_to_string(self.__robot.get_position()),\n",
        "            tuple_to_string(self.__robot.get_destination()))\n",
        "\n",
        "  def visualise(self, figsize=(12, 12)):\n",
        "    plt.figure(figsize=figsize)\n",
        "    ax = plt.gca()\n",
        "    x_range, y_range = self.get_map_range()\n",
        "    ax.set_xlim(x_range)\n",
        "    ax.set_ylim(y_range)\n",
        "\n",
        "    for vehicle in self.get_vehicles():\n",
        "        # Create a rectangle with the vehicle's dimensions\n",
        "        rect = patches.Rectangle((-vehicle.get_width() / 2, \\\n",
        "                                  -vehicle.get_height() / 2), \\\n",
        "                                 vehicle.get_width(), vehicle.get_height(), \\\n",
        "                                 linewidth=1, edgecolor='r', facecolor='none')\n",
        "\n",
        "        # Rotate and translate the rectangle according to the vehicle's\n",
        "        # yaw and center position\n",
        "        t = (Affine2D().rotate_deg(-vehicle.get_yaw()) +\n",
        "             Affine2D().translate(vehicle.get_center()[0],\n",
        "                                  vehicle.get_center()[1]) + ax.transData)\n",
        "        rect.set_transform(t)\n",
        "\n",
        "        # Add the rectangle to the plot\n",
        "        ax.add_patch(rect)\n",
        "\n",
        "    robot = self.get_robot()\n",
        "    ax.plot(*robot.get_position(), 'go', markersize=figsize[0]*5/6,\n",
        "            label='Original Position')\n",
        "    ax.plot(*robot.get_destination(), 'bo', markersize=figsize[0]*5/6,\n",
        "            label='Destination Position')\n",
        "    angle = robot.get_orientation()\n",
        "    dx = figsize[0]/3 * np.cos(np.radians(angle))\n",
        "    dy = figsize[0]/3 * np.sin(np.radians(angle))\n",
        "    ax.arrow(robot.get_position()[0], robot.get_position()[1],\n",
        "             dx, dy,\n",
        "             head_width=figsize[0]/6, head_length=figsize[0]/6,\n",
        "             fc='red', ec='red')\n",
        "\n",
        "    # visualize path\n",
        "    path = self.get_path()\n",
        "    if path is not None:\n",
        "        ax.plot([path[0][0], path[1][0]], [path[0][1], path[1][1]], 'k--',\n",
        "                label='Path')\n",
        "\n",
        "    ax.set_aspect('equal', adjustable='box')\n",
        "    plt.title('Scenario with Vehicles, Original and Destination Positions, \\\n",
        "and Path')\n",
        "    plt.xlabel('X coordinate')\n",
        "    plt.ylabel('Y coordinate')\n",
        "    plt.legend()\n",
        "    plt.grid(True)\n",
        "    plt.show()\n",
        "\n",
        "  def simulate(self, instructions):\n",
        "    initial_robot = self.__robot.copy()\n",
        "    print(\"INITIAL POSITION\")\n",
        "    self.visualise(figsize=(5, 5))\n",
        "    print()\n",
        "\n",
        "    for inst in instructions:\n",
        "      print(inst)\n",
        "      command, value = inst.split()\n",
        "      value = float(value)\n",
        "      if command == \"FORWARD\":\n",
        "        self.__robot.move_forward(value)\n",
        "      else:\n",
        "        self.__robot.rotate(value)\n",
        "      self.visualise(figsize=(5, 5))\n",
        "      if not (self.__robot.is_position_safe(self.__robot.get_position(),\n",
        "                                            self.__vehicles)):\n",
        "        print(\"COLLISION\")\n",
        "        break\n",
        "      print()\n",
        "\n",
        "    if self.__robot.get_position() == self.__robot.get_destination():\n",
        "      print(\"REACHED DESTINATION SAFELY\")\n",
        "    else:\n",
        "      print(\"FAILED TO REACH DESTINATION\")\n",
        "    self.__robot = initial_robot"
      ],
      "metadata": {
        "id": "WyFpJmYWHzEn"
      },
      "execution_count": 231,
      "outputs": []
    },
    {
      "cell_type": "code",
      "source": [
        "scenario = Scenario(vehicle_range=(5,7))\n",
        "scenario.visualise()"
      ],
      "metadata": {
        "colab": {
          "base_uri": "https://localhost:8080/",
          "height": 1000
        },
        "id": "TDLbYe3VXkbm",
        "outputId": "9072725e-f397-40b3-91e9-04d0c59a93ae"
      },
      "execution_count": 232,
      "outputs": [
        {
          "output_type": "display_data",
          "data": {
            "text/plain": [
              "<Figure size 1200x1200 with 1 Axes>"
            ],
            "image/png": "[encoded data removed]"
          },
          "metadata": {}
        }
      ]
    },
    {
      "cell_type": "code",
      "source": [
        "x_range, y_range, vehicles_string, robot_position, robot_destination = scenario.describe()"
      ],
      "metadata": {
        "id": "eS-XKjTsu-ya"
      },
      "execution_count": 233,
      "outputs": []
    },
    {
      "cell_type": "code",
      "source": [
        "prompt_template = PromptTemplate.from_template(\n",
        "    'The map the scenario is layed out on has a x-axis range of {x_range} \\\n",
        "    and a y-axis range of {y_range}. \\n Below is a list of vehicles, the \\\n",
        "    format of which is: - (center_x, center_y), orientation, (width, height): \\\n",
        "    \\n {vehicles_string} \\n As well as this you are given that the current \\\n",
        "    co-ordinates are {robot_position} and the destination co-ordinates are \\\n",
        "    {robot_destination}. \\n Given the above map scenario, formulate a series \\\n",
        "    of comma separated instructions for the robot to follow to reach from \\\n",
        "    it\\'s current position to its destination. Only the following instructions \\\n",
        "    types are permitted (with n being the distance or anti-clockwise rotation):\\\n",
        "    \\n - FORWARD [n] \\n - TURN [n]'\n",
        ")\n",
        "\n",
        "to_markdown(prompt_template.format(x_range=x_range, y_range=y_range,\n",
        "                               vehicles_string=vehicles_string,\n",
        "                               robot_position=robot_position,\n",
        "                               robot_destination=robot_destination))"
      ],
      "metadata": {
        "colab": {
          "base_uri": "https://localhost:8080/",
          "height": 318
        },
        "id": "7H_9g5KPJ3ch",
        "outputId": "970c841a-c77b-4482-f80d-0cbe4cf0d956"
      },
      "execution_count": 234,
      "outputs": [
        {
          "output_type": "execute_result",
          "data": {
            "text/plain": [
              "<IPython.core.display.Markdown object>"
            ],
            "text/markdown": "> The map the scenario is layed out on has a x-axis range of (-100, 100)     and a y-axis range of (-100, 100). \n>  Below is a list of vehicles, the     format of which is: - (center_x, center_y), orientation, (width, height):     \n>  - (-69.59334841470239, 52.16371019308252), 78.46531946006345, (4.437852285078018, 2.533840525685648) \n> - (43.58873366870307, -94.9485871944046), 147.97176981087222, (4.733443847444796, 4.75814399820294) \n> - (6.19981577052549, -42.862591900623585), 36.96606427715716, (1.9234514216785814, 1.198718190509748) \n> - (65.02753406213375, -16.10340767603293), 67.7037089316978, (2.579026832367871, 1.066568581946433) \n> - (50.603512449977615, 77.63535322145461), 39.969305003808586, (3.1684047650253926, 2.1705302884280697) \n> - (-18.042260605076763, -9.747935879121002), 154.28294028404065, (4.6228183741272275, 2.903599142328867) \n>  \n>  As well as this you are given that the current     co-ordinates are (-81.27591851636416, 74.3985799749731) and the destination co-ordinates are     (-30.188983412610042, 66.81671171877949). \n>  Given the above map scenario, formulate a series     of comma separated instructions for the robot to follow to reach from     it's current position to its destination. Only the following instructions     types are permitted (with n being the distance or anti-clockwise rotation):    \n>  - FORWARD [n] \n>  - TURN [n]"
          },
          "metadata": {},
          "execution_count": 234
        }
      ]
    },
    {
      "cell_type": "code",
      "source": [
        "chain = LLMChain(llm=model, prompt=prompt_template)\n",
        "response = chain.invoke(input={\"x_range\":x_range, \"y_range\":y_range,\n",
        "                               \"vehicles_string\":vehicles_string,\n",
        "                               \"robot_position\":robot_position,\n",
        "                               \"robot_destination\":robot_destination})[\"text\"]\n",
        "to_markdown(response)"
      ],
      "metadata": {
        "colab": {
          "base_uri": "https://localhost:8080/",
          "height": 62
        },
        "id": "Nbi0RJP2MKK2",
        "outputId": "62ed2c8e-d858-4da0-ab37-a8056e24b0a2"
      },
      "execution_count": 235,
      "outputs": [
        {
          "output_type": "execute_result",
          "data": {
            "text/plain": [
              "<IPython.core.display.Markdown object>"
            ],
            "text/markdown": "> TURN 90.0433543759241, FORWARD 6.505766858818354, TURN -90.0433543759241, FORWARD 51.08716825569411"
          },
          "metadata": {},
          "execution_count": 235
        }
      ]
    },
    {
      "cell_type": "code",
      "source": [
        "response.split(\", \")"
      ],
      "metadata": {
        "colab": {
          "base_uri": "https://localhost:8080/"
        },
        "id": "5lCBbFJvdyDo",
        "outputId": "83cc6f9d-56dd-4d34-e2af-01add43df878"
      },
      "execution_count": 236,
      "outputs": [
        {
          "output_type": "execute_result",
          "data": {
            "text/plain": [
              "['TURN 90.0433543759241',\n",
              " 'FORWARD 6.505766858818354',\n",
              " 'TURN -90.0433543759241',\n",
              " 'FORWARD 51.08716825569411']"
            ]
          },
          "metadata": {},
          "execution_count": 236
        }
      ]
    },
    {
      "cell_type": "code",
      "source": [
        "scenario.simulate(response.split(\", \"))"
      ],
      "metadata": {
        "colab": {
          "base_uri": "https://localhost:8080/",
          "height": 1000
        },
        "id": "4JlWXnRkdsjS",
        "outputId": "bc7e6c7e-0533-4234-dd97-61a53600976a"
      },
      "execution_count": 237,
      "outputs": [
        {
          "output_type": "stream",
          "name": "stdout",
          "text": [
            "INITIAL POSITION\n"
          ]
        },
        {
          "output_type": "display_data",
          "data": {
            "text/plain": [
              "<Figure size 500x500 with 1 Axes>"
            ],
            "image/png": "[encoded data removed]"
          },
          "metadata": {}
        },
        {
          "output_type": "stream",
          "name": "stdout",
          "text": [
            "\n",
            "TURN 90.0433543759241\n"
          ]
        },
        {
          "output_type": "display_data",
          "data": {
            "text/plain": [
              "<Figure size 500x500 with 1 Axes>"
            ],
            "image/png": "[encoded data removed]"
          },
          "metadata": {}
        },
        {
          "output_type": "stream",
          "name": "stdout",
          "text": [
            "\n",
            "FORWARD 6.505766858818354\n"
          ]
        },
        {
          "output_type": "display_data",
          "data": {
            "text/plain": [
              "<Figure size 500x500 with 1 Axes>"
            ],
            "image/png": "[encoded data removed]"
          },
          "metadata": {}
        },
        {
          "output_type": "stream",
          "name": "stdout",
          "text": [
            "\n",
            "TURN -90.0433543759241\n"
          ]
        },
        {
          "output_type": "display_data",
          "data": {
            "text/plain": [
              "<Figure size 500x500 with 1 Axes>"
            ],
            "image/png": "[encoded data removed]"
          },
          "metadata": {}
        },
        {
          "output_type": "stream",
          "name": "stdout",
          "text": [
            "\n",
            "FORWARD 51.08716825569411\n"
          ]
        },
        {
          "output_type": "display_data",
          "data": {
            "text/plain": [
              "<Figure size 500x500 with 1 Axes>"
            ],
            "image/png": "[encoded data removed]"
          },
          "metadata": {}
        },
        {
          "output_type": "stream",
          "name": "stdout",
          "text": [
            "\n",
            "FAILED TO REACH DESTINATION\n"
          ]
        }
      ]
    },
    {
      "cell_type": "markdown",
      "source": [
        "# Prompt Templates"
      ],
      "metadata": {
        "id": "aM1C9dI5_Atj"
      }
    },
    {
      "cell_type": "markdown",
      "source": [
        "## Prompt Generation"
      ],
      "metadata": {
        "id": "DOu5kDVrK3lz"
      }
    },
    {
      "cell_type": "code",
      "source": [
        "prompt_template = PromptTemplate.from_template(\n",
        "    \"Tell me a {adjective} joke about {content}.\"\n",
        ")\n",
        "prompt_template.format(adjective=\"funny\", content=\"chickens\")"
      ],
      "metadata": {
        "colab": {
          "base_uri": "https://localhost:8080/",
          "height": 35
        },
        "id": "tOVrWNpV-6CU",
        "outputId": "9517d216-e790-4342-efe7-007b8f7fcf4b"
      },
      "execution_count": 41,
      "outputs": [
        {
          "output_type": "execute_result",
          "data": {
            "text/plain": [
              "'Tell me a funny joke about chickens.'"
            ],
            "application/vnd.google.colaboratory.intrinsic+json": {
              "type": "string"
            }
          },
          "metadata": {},
          "execution_count": 41
        }
      ]
    },
    {
      "cell_type": "code",
      "source": [
        "chat_template = ChatPromptTemplate.from_messages(\n",
        "    [\n",
        "        (\"system\", \"You are a helpful AI bot. Your name is {name}.\"),\n",
        "        (\"human\", \"Hello, how are you doing?\"),\n",
        "        (\"ai\", \"I'm doing well, thanks!\"),\n",
        "        (\"human\", \"{user_input}\"),\n",
        "    ]\n",
        ")\n",
        "\n",
        "messages = chat_template.format_messages(name=\"Bob\",\n",
        "                                         user_input=\"What is your name?\")\n",
        "print(messages)"
      ],
      "metadata": {
        "colab": {
          "base_uri": "https://localhost:8080/"
        },
        "id": "1URmNKCQ_gaR",
        "outputId": "dfd5d907-420f-4fa4-b2d5-a54c2e86a91a"
      },
      "execution_count": 30,
      "outputs": [
        {
          "output_type": "stream",
          "name": "stdout",
          "text": [
            "[SystemMessage(content='You are a helpful AI bot. Your name is Bob.'), HumanMessage(content='Hello, how are you doing?'), AIMessage(content=\"I'm doing well, thanks!\"), HumanMessage(content='What is your name?')]\n"
          ]
        }
      ]
    },
    {
      "cell_type": "code",
      "source": [
        "chat_template = ChatPromptTemplate.from_messages(\n",
        "    [\n",
        "        SystemMessage(\n",
        "            content=(\n",
        "                \"You are a helpful assistant that re-writes the user's text to \"\n",
        "                \"sound more upbeat.\"\n",
        "            )\n",
        "        ),\n",
        "        HumanMessagePromptTemplate.from_template(\"{text}\"),\n",
        "    ]\n",
        ")\n",
        "messages = chat_template.format_messages(\n",
        "    text=\"I don't like eating tasty things\")\n",
        "print(messages)"
      ],
      "metadata": {
        "colab": {
          "base_uri": "https://localhost:8080/"
        },
        "id": "TIYbUOKP_mIU",
        "outputId": "f4c7c312-00b5-46c8-f465-de7c0c76d5c8"
      },
      "execution_count": 33,
      "outputs": [
        {
          "output_type": "stream",
          "name": "stdout",
          "text": [
            "[SystemMessage(content=\"You are a helpful assistant that re-writes the user's text to sound more upbeat.\"), HumanMessage(content=\"I don't like eating tasty things\")]\n"
          ]
        }
      ]
    },
    {
      "cell_type": "code",
      "source": [
        "prompt_val = prompt_template.invoke({\"adjective\": \"funny\", \"content\": \"chickens\"})\n",
        "print(prompt_val.to_string())\n",
        "prompt_val"
      ],
      "metadata": {
        "colab": {
          "base_uri": "https://localhost:8080/"
        },
        "id": "dZFHwdVRAKd3",
        "outputId": "40cd498d-47ba-4273-d701-d50f5d1d1810"
      },
      "execution_count": 42,
      "outputs": [
        {
          "output_type": "stream",
          "name": "stdout",
          "text": [
            "Tell me a funny joke about chickens.\n"
          ]
        },
        {
          "output_type": "execute_result",
          "data": {
            "text/plain": [
              "StringPromptValue(text='Tell me a funny joke about chickens.')"
            ]
          },
          "metadata": {},
          "execution_count": 42
        }
      ]
    },
    {
      "cell_type": "code",
      "source": [
        "prompt_val.to_messages()"
      ],
      "metadata": {
        "colab": {
          "base_uri": "https://localhost:8080/"
        },
        "id": "xmit-issAW8v",
        "outputId": "63ad4422-3da6-4579-bbb7-5a8096354039"
      },
      "execution_count": 43,
      "outputs": [
        {
          "output_type": "execute_result",
          "data": {
            "text/plain": [
              "[HumanMessage(content='Tell me a funny joke about chickens.')]"
            ]
          },
          "metadata": {},
          "execution_count": 43
        }
      ]
    },
    {
      "cell_type": "code",
      "source": [
        "chat_val = chat_template.invoke({\"text\": \"i dont like eating tasty things.\"})\n",
        "chat_val.to_messages()"
      ],
      "metadata": {
        "colab": {
          "base_uri": "https://localhost:8080/"
        },
        "id": "Y0TWD3fnAY3T",
        "outputId": "738611f6-d06e-4cc7-e8ef-5b7e8eb30451"
      },
      "execution_count": 44,
      "outputs": [
        {
          "output_type": "execute_result",
          "data": {
            "text/plain": [
              "[SystemMessage(content=\"You are a helpful assistant that re-writes the user's text to sound more upbeat.\"),\n",
              " HumanMessage(content='i dont like eating tasty things.')]"
            ]
          },
          "metadata": {},
          "execution_count": 44
        }
      ]
    },
    {
      "cell_type": "code",
      "source": [
        "chat_val.to_string()"
      ],
      "metadata": {
        "colab": {
          "base_uri": "https://localhost:8080/",
          "height": 35
        },
        "id": "Q3spI9JwAf54",
        "outputId": "afd40e48-9447-47f4-ae15-ac81543bc1f9"
      },
      "execution_count": 45,
      "outputs": [
        {
          "output_type": "execute_result",
          "data": {
            "text/plain": [
              "\"System: You are a helpful assistant that re-writes the user's text to sound more upbeat.\\nHuman: i dont like eating tasty things.\""
            ],
            "application/vnd.google.colaboratory.intrinsic+json": {
              "type": "string"
            }
          },
          "metadata": {},
          "execution_count": 45
        }
      ]
    },
    {
      "cell_type": "code",
      "source": [
        "prompt = (\n",
        "    PromptTemplate.from_template(\"Tell me a joke about {topic}\")\n",
        "    + \", make it funny\"\n",
        "    + \"\\n\\nand in {language}\"\n",
        ")\n",
        "prompt"
      ],
      "metadata": {
        "colab": {
          "base_uri": "https://localhost:8080/"
        },
        "id": "4o0QhjI1BCVw",
        "outputId": "6c188042-2860-42f6-8ae5-6f047d1728c3"
      },
      "execution_count": 46,
      "outputs": [
        {
          "output_type": "execute_result",
          "data": {
            "text/plain": [
              "PromptTemplate(input_variables=['language', 'topic'], template='Tell me a joke about {topic}, make it funny\\n\\nand in {language}')"
            ]
          },
          "metadata": {},
          "execution_count": 46
        }
      ]
    },
    {
      "cell_type": "code",
      "source": [
        "prompt.format(topic=\"sports\", language=\"spanish\")"
      ],
      "metadata": {
        "colab": {
          "base_uri": "https://localhost:8080/",
          "height": 35
        },
        "id": "oQGiVxMfBEZ1",
        "outputId": "ef8a06a3-8f9b-4084-e27b-474605a3d040"
      },
      "execution_count": 47,
      "outputs": [
        {
          "output_type": "execute_result",
          "data": {
            "text/plain": [
              "'Tell me a joke about sports, make it funny\\n\\nand in spanish'"
            ],
            "application/vnd.google.colaboratory.intrinsic+json": {
              "type": "string"
            }
          },
          "metadata": {},
          "execution_count": 47
        }
      ]
    },
    {
      "cell_type": "code",
      "source": [
        "chain = LLMChain(llm=model, prompt=prompt)\n",
        "response = chain.invoke(input={\"topic\":\"sports\", \"language\":\"spanish\"})[\"text\"]\n",
        "to_markdown(response)"
      ],
      "metadata": {
        "colab": {
          "base_uri": "https://localhost:8080/",
          "height": 86
        },
        "id": "1zQMOgAXBF7H",
        "outputId": "a6c11eb1-cf82-4bcc-ae12-fe686715fef9"
      },
      "execution_count": 77,
      "outputs": [
        {
          "output_type": "execute_result",
          "data": {
            "text/plain": [
              "<IPython.core.display.Markdown object>"
            ],
            "text/markdown": "> ¿Qué le dijo una portería a un balón?\n> \n> ¡Pásame la pelota!"
          },
          "metadata": {},
          "execution_count": 77
        }
      ]
    },
    {
      "cell_type": "code",
      "source": [
        "prompt = SystemMessage(content=\"You are a nice pirate\")\n",
        "new_prompt = (\n",
        "    prompt + HumanMessage(content=\"hi\") + AIMessage(content=\"what?\") + \"{input}\"\n",
        ")\n",
        "new_prompt.format_messages(input=\"i said hi\")"
      ],
      "metadata": {
        "colab": {
          "base_uri": "https://localhost:8080/"
        },
        "id": "NoFHEd-QEt-w",
        "outputId": "d7697599-1b04-43a5-aa64-27c0367cc5be"
      },
      "execution_count": 80,
      "outputs": [
        {
          "output_type": "execute_result",
          "data": {
            "text/plain": [
              "[SystemMessage(content='You are a nice pirate'),\n",
              " HumanMessage(content='hi'),\n",
              " AIMessage(content='what?'),\n",
              " HumanMessage(content='i said hi')]"
            ]
          },
          "metadata": {},
          "execution_count": 80
        }
      ]
    },
    {
      "cell_type": "code",
      "source": [
        "chain = LLMChain(llm=model, prompt=new_prompt)\n",
        "chain.invoke(\"i said hi\")"
      ],
      "metadata": {
        "colab": {
          "base_uri": "https://localhost:8080/"
        },
        "id": "Sr3K3rk5DbEF",
        "outputId": "a0889ffa-e2b4-473b-d0df-0be2a0b8d82c"
      },
      "execution_count": 85,
      "outputs": [
        {
          "output_type": "execute_result",
          "data": {
            "text/plain": [
              "{'input': 'i said hi',\n",
              " 'text': 'Hello there! I am a friendly pirate. What can I do for you?'}"
            ]
          },
          "metadata": {},
          "execution_count": 85
        }
      ]
    },
    {
      "cell_type": "markdown",
      "source": [
        "## Few-shot Prompting"
      ],
      "metadata": {
        "id": "9hvVmONQK84f"
      }
    },
    {
      "cell_type": "markdown",
      "source": [
        "### By Length"
      ],
      "metadata": {
        "id": "KajZPqEzLBQm"
      }
    },
    {
      "cell_type": "code",
      "source": [
        "# Examples of a pretend task of creating antonyms.\n",
        "examples = [\n",
        "    {\"input\": \"happy\", \"output\": \"sad\"},\n",
        "    {\"input\": \"tall\", \"output\": \"short\"},\n",
        "    {\"input\": \"energetic\", \"output\": \"lethargic\"},\n",
        "    {\"input\": \"sunny\", \"output\": \"gloomy\"},\n",
        "    {\"input\": \"windy\", \"output\": \"calm\"},\n",
        "]\n",
        "\n",
        "example_prompt = PromptTemplate(\n",
        "    input_variables=[\"input\", \"output\"],\n",
        "    template=\"Input: {input}\\nOutput: {output}\",\n",
        ")\n",
        "example_selector = LengthBasedExampleSelector(\n",
        "    # The examples it has available to choose from.\n",
        "    examples=examples,\n",
        "    # The PromptTemplate being used to format the examples.\n",
        "    example_prompt=example_prompt,\n",
        "    # The maximum length that the formatted examples should be.\n",
        "    # Length is measured by the get_text_length function below.\n",
        "    max_length=25,\n",
        "    # The function used to get the length of a string, which is used\n",
        "    # to determine which examples to include. It is commented out because\n",
        "    # it is provided as a default value if none is specified.\n",
        "    # get_text_length: Callable[[str], int] = lambda x: len(re.split(\"\\n| \", x))\n",
        ")\n",
        "dynamic_prompt = FewShotPromptTemplate(\n",
        "    # We provide an ExampleSelector instead of examples.\n",
        "    example_selector=example_selector,\n",
        "    example_prompt=example_prompt,\n",
        "    prefix=\"Give the antonym of every input\",\n",
        "    suffix=\"Input: {adjective}\\nOutput:\",\n",
        "    input_variables=[\"adjective\"],\n",
        ")\n",
        "\n",
        "# An example with small input, so it selects all examples.\n",
        "print(dynamic_prompt.format(adjective=\"big\"))"
      ],
      "metadata": {
        "colab": {
          "base_uri": "https://localhost:8080/"
        },
        "id": "He1WJ5hXJt_V",
        "outputId": "2c4f92ae-4fb2-41d2-e15b-36d705aad032"
      },
      "execution_count": 90,
      "outputs": [
        {
          "output_type": "stream",
          "name": "stdout",
          "text": [
            "Give the antonym of every input\n",
            "\n",
            "Input: happy\n",
            "Output: sad\n",
            "\n",
            "Input: tall\n",
            "Output: short\n",
            "\n",
            "Input: energetic\n",
            "Output: lethargic\n",
            "\n",
            "Input: sunny\n",
            "Output: gloomy\n",
            "\n",
            "Input: windy\n",
            "Output: calm\n",
            "\n",
            "Input: big\n",
            "Output:\n"
          ]
        }
      ]
    },
    {
      "cell_type": "code",
      "source": [
        "# An example with long input, so it selects only one example.\n",
        "long_string = \"big and huge and massive and large and gigantic and tall and much much much much much bigger than everything else\"\n",
        "print(dynamic_prompt.format(adjective=long_string))"
      ],
      "metadata": {
        "colab": {
          "base_uri": "https://localhost:8080/"
        },
        "id": "mD0i974ZKMjC",
        "outputId": "4d209d60-d947-4db5-c349-e1f9a53a7250"
      },
      "execution_count": 91,
      "outputs": [
        {
          "output_type": "stream",
          "name": "stdout",
          "text": [
            "Give the antonym of every input\n",
            "\n",
            "Input: happy\n",
            "Output: sad\n",
            "\n",
            "Input: big and huge and massive and large and gigantic and tall and much much much much much bigger than everything else\n",
            "Output:\n"
          ]
        }
      ]
    },
    {
      "cell_type": "code",
      "source": [
        "# You can add an example to an example selector as well.\n",
        "new_example = {\"input\": \"big\", \"output\": \"small\"}\n",
        "dynamic_prompt.example_selector.add_example(new_example)\n",
        "print(dynamic_prompt.format(adjective=\"enthusiastic\"))"
      ],
      "metadata": {
        "colab": {
          "base_uri": "https://localhost:8080/"
        },
        "id": "W3cq0yC7Kmcl",
        "outputId": "e30bfbda-9d4b-4388-ce77-2a39155ffc0c"
      },
      "execution_count": 92,
      "outputs": [
        {
          "output_type": "stream",
          "name": "stdout",
          "text": [
            "Give the antonym of every input\n",
            "\n",
            "Input: happy\n",
            "Output: sad\n",
            "\n",
            "Input: tall\n",
            "Output: short\n",
            "\n",
            "Input: energetic\n",
            "Output: lethargic\n",
            "\n",
            "Input: sunny\n",
            "Output: gloomy\n",
            "\n",
            "Input: windy\n",
            "Output: calm\n",
            "\n",
            "Input: big\n",
            "Output: small\n",
            "\n",
            "Input: enthusiastic\n",
            "Output:\n"
          ]
        }
      ]
    },
    {
      "cell_type": "markdown",
      "source": [
        "### By Similarity (MMR)"
      ],
      "metadata": {
        "id": "TJWEIICELDyb"
      }
    },
    {
      "cell_type": "code",
      "source": [
        "example_prompt = PromptTemplate(\n",
        "    input_variables=[\"input\", \"output\"],\n",
        "    template=\"Input: {input}\\nOutput: {output}\",\n",
        ")\n",
        "\n",
        "# Examples of a pretend task of creating antonyms.\n",
        "examples = [\n",
        "    {\"input\": \"happy\", \"output\": \"sad\"},\n",
        "    {\"input\": \"tall\", \"output\": \"short\"},\n",
        "    {\"input\": \"energetic\", \"output\": \"lethargic\"},\n",
        "    {\"input\": \"sunny\", \"output\": \"gloomy\"},\n",
        "    {\"input\": \"windy\", \"output\": \"calm\"},\n",
        "]"
      ],
      "metadata": {
        "colab": {
          "base_uri": "https://localhost:8080/"
        },
        "id": "ibqOBR1fK0iJ",
        "outputId": "21e34722-55ca-4012-f0e2-03e6856cdb24"
      },
      "execution_count": 99,
      "outputs": [
        {
          "output_type": "stream",
          "name": "stdout",
          "text": [
            "\u001b[2K     \u001b[90m━━━━━━━━━━━━━━━━━━━━━━━━━━━━━━━━━━━━━━━━\u001b[0m \u001b[32m85.5/85.5 MB\u001b[0m \u001b[31m8.7 MB/s\u001b[0m eta \u001b[36m0:00:00\u001b[0m\n",
            "\u001b[?25h"
          ]
        }
      ]
    },
    {
      "cell_type": "code",
      "source": [
        "example_selector = MaxMarginalRelevanceExampleSelector.from_examples(\n",
        "    # The list of examples available to select from.\n",
        "    examples,\n",
        "    # The embedding class used to produce embeddings which are used to measure semantic similarity.\n",
        "    HuggingFaceBgeEmbeddings(),\n",
        "    # The VectorStore class that is used to store the embeddings and do a similarity search over.\n",
        "    FAISS,\n",
        "    # The number of examples to produce.\n",
        "    k=2,\n",
        ")\n",
        "mmr_prompt = FewShotPromptTemplate(\n",
        "    # We provide an ExampleSelector instead of examples.\n",
        "    example_selector=example_selector,\n",
        "    example_prompt=example_prompt,\n",
        "    prefix=\"Give the antonym of every input\",\n",
        "    suffix=\"Input: {adjective}\\nOutput:\",\n",
        "    input_variables=[\"adjective\"],\n",
        ")"
      ],
      "metadata": {
        "id": "v3zjkJKULJ0k"
      },
      "execution_count": 100,
      "outputs": []
    },
    {
      "cell_type": "code",
      "source": [
        "# Input is a feeling, so should select the happy/sad example as the first one\n",
        "print(mmr_prompt.format(adjective=\"worried\"))"
      ],
      "metadata": {
        "colab": {
          "base_uri": "https://localhost:8080/"
        },
        "id": "hsS4EI5pLhLJ",
        "outputId": "f33132cc-ab63-415b-a6a3-a96106dffd08"
      },
      "execution_count": 101,
      "outputs": [
        {
          "output_type": "stream",
          "name": "stdout",
          "text": [
            "Give the antonym of every input\n",
            "\n",
            "Input: happy\n",
            "Output: sad\n",
            "\n",
            "Input: energetic\n",
            "Output: lethargic\n",
            "\n",
            "Input: worried\n",
            "Output:\n"
          ]
        }
      ]
    },
    {
      "cell_type": "code",
      "source": [
        "# Let's compare this to what we would just get if we went solely off of similarity,\n",
        "# by using SemanticSimilarityExampleSelector instead of MaxMarginalRelevanceExampleSelector.\n",
        "example_selector = SemanticSimilarityExampleSelector.from_examples(\n",
        "    # The list of examples available to select from.\n",
        "    examples,\n",
        "    # The embedding class used to produce embeddings which are used to measure semantic similarity.\n",
        "    HuggingFaceBgeEmbeddings(),\n",
        "    # The VectorStore class that is used to store the embeddings and do a similarity search over.\n",
        "    FAISS,\n",
        "    # The number of examples to produce.\n",
        "    k=2,\n",
        ")\n",
        "similar_prompt = FewShotPromptTemplate(\n",
        "    # We provide an ExampleSelector instead of examples.\n",
        "    example_selector=example_selector,\n",
        "    example_prompt=example_prompt,\n",
        "    prefix=\"Give the antonym of every input\",\n",
        "    suffix=\"Input: {adjective}\\nOutput:\",\n",
        "    input_variables=[\"adjective\"],\n",
        ")\n",
        "print(similar_prompt.format(adjective=\"worried\"))"
      ],
      "metadata": {
        "colab": {
          "base_uri": "https://localhost:8080/"
        },
        "id": "RmRutgpsL50d",
        "outputId": "29490b30-63c3-471a-9735-dd62a82d4206"
      },
      "execution_count": 103,
      "outputs": [
        {
          "output_type": "stream",
          "name": "stdout",
          "text": [
            "Give the antonym of every input\n",
            "\n",
            "Input: happy\n",
            "Output: sad\n",
            "\n",
            "Input: energetic\n",
            "Output: lethargic\n",
            "\n",
            "Input: worried\n",
            "Output:\n"
          ]
        }
      ]
    },
    {
      "cell_type": "markdown",
      "source": [
        "(this should be different since MMR also tries to have diversity)"
      ],
      "metadata": {
        "id": "irMXLcY4MDSM"
      }
    },
    {
      "cell_type": "markdown",
      "source": [
        "### N-gram overlap"
      ],
      "metadata": {
        "id": "AJTQ9NhMcGPY"
      }
    },
    {
      "cell_type": "code",
      "source": [
        "example_prompt = PromptTemplate(\n",
        "    input_variables=[\"input\", \"output\"],\n",
        "    template=\"Input: {input}\\nOutput: {output}\",\n",
        ")\n",
        "\n",
        "# Examples of a fictional translation task.\n",
        "examples = [\n",
        "    {\"input\": \"See Spot run.\", \"output\": \"Ver correr a Spot.\"},\n",
        "    {\"input\": \"My dog barks.\", \"output\": \"Mi perro ladra.\"},\n",
        "    {\"input\": \"Spot can run.\", \"output\": \"Spot puede correr.\"},\n",
        "]"
      ],
      "metadata": {
        "id": "N_7EjN4udAxL"
      },
      "execution_count": 106,
      "outputs": []
    },
    {
      "cell_type": "code",
      "source": [
        "example_selector = NGramOverlapExampleSelector(\n",
        "    # The examples it has available to choose from.\n",
        "    examples=examples,\n",
        "    # The PromptTemplate being used to format the examples.\n",
        "    example_prompt=example_prompt,\n",
        "    # The threshold, at which selector stops.\n",
        "    # It is set to -1.0 by default.\n",
        "    threshold=-1.0,\n",
        "    # For negative threshold:\n",
        "    # Selector sorts examples by ngram overlap score, and excludes none.\n",
        "    # For threshold greater than 1.0:\n",
        "    # Selector excludes all examples, and returns an empty list.\n",
        "    # For threshold equal to 0.0:\n",
        "    # Selector sorts examples by ngram overlap score,\n",
        "    # and excludes those with no ngram overlap with input.\n",
        ")\n",
        "dynamic_prompt = FewShotPromptTemplate(\n",
        "    # We provide an ExampleSelector instead of examples.\n",
        "    example_selector=example_selector,\n",
        "    example_prompt=example_prompt,\n",
        "    prefix=\"Give the Spanish translation of every input\",\n",
        "    suffix=\"Input: {sentence}\\nOutput:\",\n",
        "    input_variables=[\"sentence\"],\n",
        ")"
      ],
      "metadata": {
        "id": "8f6lACQedapr"
      },
      "execution_count": 107,
      "outputs": []
    },
    {
      "cell_type": "code",
      "source": [
        "# An example input with large ngram overlap with \"Spot can run.\"\n",
        "# and no overlap with \"My dog barks.\"\n",
        "print(dynamic_prompt.format(sentence=\"Spot can run fast.\"))"
      ],
      "metadata": {
        "colab": {
          "base_uri": "https://localhost:8080/"
        },
        "id": "Sb9LD4q-dcJE",
        "outputId": "907fe525-51fc-44c8-d409-5a9069e8b87f"
      },
      "execution_count": 108,
      "outputs": [
        {
          "output_type": "stream",
          "name": "stdout",
          "text": [
            "Give the Spanish translation of every input\n",
            "\n",
            "Input: Spot can run.\n",
            "Output: Spot puede correr.\n",
            "\n",
            "Input: See Spot run.\n",
            "Output: Ver correr a Spot.\n",
            "\n",
            "Input: My dog barks.\n",
            "Output: Mi perro ladra.\n",
            "\n",
            "Input: Spot can run fast.\n",
            "Output:\n"
          ]
        }
      ]
    },
    {
      "cell_type": "code",
      "source": [
        "# You can add examples to NGramOverlapExampleSelector as well.\n",
        "new_example = {\"input\": \"Spot plays fetch.\", \"output\": \"Spot juega a buscar.\"}\n",
        "\n",
        "example_selector.add_example(new_example)\n",
        "print(dynamic_prompt.format(sentence=\"Spot can run fast.\"))"
      ],
      "metadata": {
        "colab": {
          "base_uri": "https://localhost:8080/"
        },
        "id": "y_vwXV8QdfHT",
        "outputId": "c57bd218-5ae9-4a40-b4c1-d7c9948603dc"
      },
      "execution_count": 109,
      "outputs": [
        {
          "output_type": "stream",
          "name": "stdout",
          "text": [
            "Give the Spanish translation of every input\n",
            "\n",
            "Input: Spot can run.\n",
            "Output: Spot puede correr.\n",
            "\n",
            "Input: See Spot run.\n",
            "Output: Ver correr a Spot.\n",
            "\n",
            "Input: Spot plays fetch.\n",
            "Output: Spot juega a buscar.\n",
            "\n",
            "Input: My dog barks.\n",
            "Output: Mi perro ladra.\n",
            "\n",
            "Input: Spot can run fast.\n",
            "Output:\n"
          ]
        }
      ]
    },
    {
      "cell_type": "code",
      "source": [
        "# Setting small nonzero threshold\n",
        "example_selector.threshold = 0.09\n",
        "print(dynamic_prompt.format(sentence=\"Spot can play fetch.\"))"
      ],
      "metadata": {
        "colab": {
          "base_uri": "https://localhost:8080/"
        },
        "id": "aIzu7i_9dhGT",
        "outputId": "39406530-2be9-482d-c425-04352466061c"
      },
      "execution_count": 110,
      "outputs": [
        {
          "output_type": "stream",
          "name": "stdout",
          "text": [
            "Give the Spanish translation of every input\n",
            "\n",
            "Input: Spot can run.\n",
            "Output: Spot puede correr.\n",
            "\n",
            "Input: Spot plays fetch.\n",
            "Output: Spot juega a buscar.\n",
            "\n",
            "Input: Spot can play fetch.\n",
            "Output:\n"
          ]
        }
      ]
    },
    {
      "cell_type": "markdown",
      "source": [
        "### Custom Example Selector"
      ],
      "metadata": {
        "id": "sw0WYMzHeVHs"
      }
    },
    {
      "cell_type": "code",
      "source": [
        "examples = [\n",
        "    {\"input\": \"hi\", \"output\": \"ciao\"},\n",
        "    {\"input\": \"bye\", \"output\": \"arrivaderci\"},\n",
        "    {\"input\": \"soccer\", \"output\": \"calcio\"},\n",
        "]"
      ],
      "metadata": {
        "id": "CEIDJ65PeXam"
      },
      "execution_count": 111,
      "outputs": []
    },
    {
      "cell_type": "code",
      "source": [
        "class CustomExampleSelector(BaseExampleSelector):\n",
        "    def __init__(self, examples):\n",
        "        self.examples = examples\n",
        "\n",
        "    def add_example(self, example):\n",
        "        self.examples.append(example)\n",
        "\n",
        "    def select_examples(self, input_variables):\n",
        "        # This assumes knowledge that part of the input will be a 'text' key\n",
        "        new_word = input_variables[\"input\"]\n",
        "        new_word_length = len(new_word)\n",
        "\n",
        "        # Initialize variables to store the best match and its length difference\n",
        "        best_match = None\n",
        "        smallest_diff = float(\"inf\")\n",
        "\n",
        "        # Iterate through each example\n",
        "        for example in self.examples:\n",
        "            # Calculate the length difference with the first word of the example\n",
        "            current_diff = abs(len(example[\"input\"]) - new_word_length)\n",
        "\n",
        "            # Update the best match if the current one is closer in length\n",
        "            if current_diff < smallest_diff:\n",
        "                smallest_diff = current_diff\n",
        "                best_match = example\n",
        "\n",
        "        return [best_match]"
      ],
      "metadata": {
        "id": "nuCyB-t2eYq1"
      },
      "execution_count": 113,
      "outputs": []
    },
    {
      "cell_type": "code",
      "source": [
        "example_selector = CustomExampleSelector(examples)"
      ],
      "metadata": {
        "id": "xAWWri2Zee-0"
      },
      "execution_count": 114,
      "outputs": []
    },
    {
      "cell_type": "code",
      "source": [
        "example_selector.select_examples({\"input\": \"okay\"})"
      ],
      "metadata": {
        "colab": {
          "base_uri": "https://localhost:8080/"
        },
        "id": "QBWgqtzQeloV",
        "outputId": "bcaed849-7024-46d9-a8f5-f51d80cdc4e5"
      },
      "execution_count": 115,
      "outputs": [
        {
          "output_type": "execute_result",
          "data": {
            "text/plain": [
              "[{'input': 'bye', 'output': 'arrivaderci'}]"
            ]
          },
          "metadata": {},
          "execution_count": 115
        }
      ]
    },
    {
      "cell_type": "code",
      "source": [
        "example_selector.add_example({\"input\": \"hand\", \"output\": \"mano\"})"
      ],
      "metadata": {
        "id": "hrnpAHiOeu2z"
      },
      "execution_count": 116,
      "outputs": []
    },
    {
      "cell_type": "code",
      "source": [
        "example_selector.select_examples({\"input\": \"okay\"})"
      ],
      "metadata": {
        "colab": {
          "base_uri": "https://localhost:8080/"
        },
        "id": "KaeaKwjUewA0",
        "outputId": "bc051df3-2c45-42b7-d61e-672fd22f360a"
      },
      "execution_count": 117,
      "outputs": [
        {
          "output_type": "execute_result",
          "data": {
            "text/plain": [
              "[{'input': 'hand', 'output': 'mano'}]"
            ]
          },
          "metadata": {},
          "execution_count": 117
        }
      ]
    },
    {
      "cell_type": "code",
      "source": [
        "example_prompt = PromptTemplate.from_template(\"Input: {input} -> Output: {output}\")\n",
        "\n",
        "prompt = FewShotPromptTemplate(\n",
        "    example_selector=example_selector,\n",
        "    example_prompt=example_prompt,\n",
        "    suffix=\"Input: {input} -> Output:\",\n",
        "    prefix=\"Translate the following words from English to Italain:\",\n",
        "    input_variables=[\"input\"],\n",
        ")\n",
        "\n",
        "print(prompt.format(input=\"word\"))"
      ],
      "metadata": {
        "colab": {
          "base_uri": "https://localhost:8080/"
        },
        "id": "hNggKYlfezpS",
        "outputId": "1840c141-8d68-4d98-c33a-a0b4e0fbd409"
      },
      "execution_count": 119,
      "outputs": [
        {
          "output_type": "stream",
          "name": "stdout",
          "text": [
            "Translate the following words from English to Italain:\n",
            "\n",
            "Input: hand -> Output: mano\n",
            "\n",
            "Input: word -> Output:\n"
          ]
        }
      ]
    },
    {
      "cell_type": "code",
      "source": [],
      "metadata": {
        "id": "aq7Xs2G1fEv6"
      },
      "execution_count": null,
      "outputs": []
    },
    {
      "cell_type": "code",
      "source": [
        "#   def __get_rectangle_corners(center_x, center_y, yaw, width, height):\n",
        "#   \"\"\"\n",
        "#   Calculates the co-ordinates of the corners of a rectangle given its center point, yaw, width, and height.\n",
        "\n",
        "#   Args:\n",
        "#     center_x: The x-coordinate of the center point.\n",
        "#     center_y: The y-coordinate of the center point.\n",
        "#     yaw: The yaw angle of the rectangle in radians.\n",
        "#     width: The width of the rectangle.\n",
        "#     height: The height of the rectangle.\n",
        "\n",
        "#   Returns:\n",
        "#     A list of four tuples, each representing the coordinates of a corner.\n",
        "#   \"\"\"\n",
        "\n",
        "#   half_width = width / 2\n",
        "#   half_height = height / 2\n",
        "\n",
        "#   # Calculate the corners in the rectangle's local coordinate frame.\n",
        "#   local_corners = [\n",
        "#       (-half_width, -half_height),\n",
        "#       (half_width, -half_height),\n",
        "#       (half_width, half_height),\n",
        "#       (-half_width, half_height),\n",
        "#   ]\n",
        "\n",
        "#   # Rotate the corners by the yaw angle.\n",
        "#   rotated_corners = []\n",
        "#   for corner in local_corners:\n",
        "#     rotated_corner = (\n",
        "#         center_x + math.cos(yaw) * corner[0] - math.sin(yaw) * corner[1],\n",
        "#         center_y + math.sin(yaw) * corner[0] + math.cos(yaw) * corner[1],\n",
        "#     )\n",
        "#     rotated_corners.append(rotated_corner)\n",
        "\n",
        "#   return rotated_corners\n",
        "\n",
        "# def no_overlap(rect1, rect2, gap):\n",
        "#   \"\"\"\n",
        "#   Checks if there is no overlap between two rectangles, with a bit of gap.\n",
        "\n",
        "#   Args:\n",
        "#       rect1: A tuple containing the coordinates of the bottom-left and top-right corners of the first rectangle: (x1, y1, x2, y2).\n",
        "#       rect2: A tuple containing the coordinates of the bottom-left and top-right corners of the second rectangle: (x1, y1, x2, y2).\n",
        "#       gap: The minimum gap between the rectangles.\n",
        "\n",
        "#   Returns:\n",
        "#       True if there is no overlap between the rectangles, with a bit of gap, False otherwise.\n",
        "#   \"\"\"\n",
        "\n",
        "#   # Check if the rectangles are on the same horizontal or vertical line.\n",
        "#   if (rect1[0] == rect2[0] or rect1[2] == rect2[2]) and (rect1[1] == rect2[1] or rect1[3] == rect2[3]):\n",
        "#     return False\n",
        "\n",
        "#   # Check if the rectangles overlap horizontally.\n",
        "#   if not (rect1[2] + gap < rect2[0] or rect2[2] + gap < rect1[0]):\n",
        "#     return False\n",
        "\n",
        "#   # Check if the rectangles overlap vertically.\n",
        "#   if not (rect1[3] + gap < rect2[1] or rect2[3] + gap < rect1[1]):\n",
        "#     return False\n",
        "\n",
        "#   # If all the checks are passed, then there is no overlap between the rectangles, with a bit of gap.\n",
        "#   return True\n"
      ],
      "metadata": {
        "id": "9N6JrekNoO2C"
      },
      "execution_count": null,
      "outputs": []
    }
  ]
}