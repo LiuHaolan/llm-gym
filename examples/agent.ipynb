{
 "cells": [
  {
   "cell_type": "code",
   "execution_count": 19,
   "id": "bde8011c-9e7f-42f9-86e4-d83f5658ee33",
   "metadata": {},
   "outputs": [],
   "source": [
    "# !pip show langchain==0.1.11\n",
    "\n",
    "from dotenv import load_dotenv\n",
    "load_dotenv(\"/home/haolan/.env\")\n",
    "\n",
    "from IPython.display import display\n",
    "from IPython.display import Markdown\n",
    "import textwrap\n",
    "\n",
    "\n",
    "def to_markdown(text):\n",
    "  text = text.replace('•', '  *')\n",
    "  return Markdown(textwrap.indent(text, '> ', predicate=lambda _: True))\n",
    "\n",
    "from langchain_google_genai import ChatGoogleGenerativeAI\n",
    "import os\n",
    "GOOGLE_API_KEY=os.environ.get(\"GOOGLE_API_KEY\")\n",
    "\n",
    "llm = ChatGoogleGenerativeAI(model=\"gemini-pro\",\n",
    "                               google_api_key=GOOGLE_API_KEY,\n",
    "                               convert_system_message_to_human=True)"
   ]
  },
  {
   "cell_type": "code",
   "execution_count": 29,
   "id": "fd598b84-a0af-4aef-adfa-c74771d7627b",
   "metadata": {},
   "outputs": [],
   "source": [
    "from langchain.agents import load_tools\n",
    "from langchain.agents import initialize_agent\n",
    "\n",
    "\n",
    "#tools = load_tools([\"ddg-search\"], llm=llm)\n"
   ]
  },
  {
   "cell_type": "code",
   "execution_count": 32,
   "id": "0ee3ba7f-eca0-4714-bc0e-4f74b77e818c",
   "metadata": {},
   "outputs": [],
   "source": [
    "# Import things that are needed generically\n",
    "from langchain.pydantic_v1 import BaseModel, Field\n",
    "from langchain.tools import BaseTool, StructuredTool, tool\n",
    "\n",
    "@tool\n",
    "def search(query: str) -> str:\n",
    "    \"\"\"Look up things online.\"\"\"\n",
    "    return \"LangChain\"\n",
    "\n",
    "@tool\n",
    "def add(a: int, b: int) -> int:\n",
    "    \"\"\"Add two numbers.\"\"\"\n",
    "    return a+b\n",
    "\n",
    "@tool\n",
    "def multiply(a: int, b: int) -> int:\n",
    "    \"\"\"Multiply two numbers.\"\"\"\n",
    "    return a * b"
   ]
  },
  {
   "cell_type": "code",
   "execution_count": 41,
   "id": "80ea68a7-2d2e-4ac2-b95c-89dc5fc21d9a",
   "metadata": {},
   "outputs": [
    {
     "name": "stdout",
     "output_type": "stream",
     "text": [
      "input_variables=['agent_scratchpad', 'input'] messages=[SystemMessagePromptTemplate(prompt=PromptTemplate(input_variables=[], template='Respond to the human as helpfully and accurately as possible. You have access to the following tools:\\n\\nsearch: search(query: str) -> str - Look up things online., args: {{\\'query\\': {{\\'title\\': \\'Query\\', \\'type\\': \\'string\\'}}}}\\nmultiply: multiply(a: int, b: int) -> int - Multiply two numbers., args: {{\\'a\\': {{\\'title\\': \\'A\\', \\'type\\': \\'integer\\'}}, \\'b\\': {{\\'title\\': \\'B\\', \\'type\\': \\'integer\\'}}}}\\nadd: add(a: int, b: int) -> int - Add two numbers., args: {{\\'a\\': {{\\'title\\': \\'A\\', \\'type\\': \\'integer\\'}}, \\'b\\': {{\\'title\\': \\'B\\', \\'type\\': \\'integer\\'}}}}\\n\\nUse a json blob to specify a tool by providing an action key (tool name) and an action_input key (tool input).\\n\\nValid \"action\" values: \"Final Answer\" or search, multiply, add\\n\\nProvide only ONE action per $JSON_BLOB, as shown:\\n\\n```\\n{{\\n  \"action\": $TOOL_NAME,\\n  \"action_input\": $INPUT\\n}}\\n```\\n\\nFollow this format:\\n\\nQuestion: input question to answer\\nThought: consider previous and subsequent steps\\nAction:\\n```\\n$JSON_BLOB\\n```\\nObservation: action result\\n... (repeat Thought/Action/Observation N times)\\nThought: I know what to respond\\nAction:\\n```\\n{{\\n  \"action\": \"Final Answer\",\\n  \"action_input\": \"Final response to human\"\\n}}\\n```\\n\\nBegin! Reminder to ALWAYS respond with a valid json blob of a single action. Use tools if necessary. Respond directly if appropriate. Format is Action:```$JSON_BLOB```then Observation:.\\nThought:')), HumanMessagePromptTemplate(prompt=PromptTemplate(input_variables=['agent_scratchpad', 'input'], template='{input}\\n\\n{agent_scratchpad}'))]\n"
     ]
    }
   ],
   "source": [
    "from langchain.agents import load_tools\n",
    "from langchain.agents import initialize_agent\n",
    "from langchain.agents import AgentType\n",
    "\n",
    "tools = [search, multiply, add]\n",
    "\n",
    "agent = initialize_agent(tools,\n",
    "                         llm,\n",
    "                         agent=AgentType.STRUCTURED_CHAT_ZERO_SHOT_REACT_DESCRIPTION,\n",
    "                         verbose=True)\n",
    "\n",
    "print(agent.agent.llm_chain.prompt)\n"
   ]
  },
  {
   "cell_type": "code",
   "execution_count": 43,
   "id": "7d5df728-2cfc-4252-941c-79fc61244e76",
   "metadata": {},
   "outputs": [
    {
     "name": "stdout",
     "output_type": "stream",
     "text": [
      "\n",
      "\n",
      "\u001b[1m> Entering new AgentExecutor chain...\u001b[0m\n",
      "\u001b[32;1m\u001b[1;3mAction:\n",
      "```\n",
      "{\n",
      "  \"action\": \"multiply\",\n",
      "  \"action_input\": {\n",
      "    \"a\": 12376,\n",
      "    \"b\": 3456\n",
      "  }\n",
      "}\n",
      "```\u001b[0m\n",
      "Observation: \u001b[33;1m\u001b[1;3m42771456\u001b[0m\n",
      "Thought:\u001b[32;1m\u001b[1;3mAnd I need to add 2 to that.\n",
      "Action:\n",
      "```\n",
      "{\n",
      "  \"action\": \"add\",\n",
      "  \"action_input\": {\n",
      "    \"a\": 42771456,\n",
      "    \"b\": 2\n",
      "  }\n",
      "}\n",
      "```\u001b[0m\n",
      "Observation: \u001b[38;5;200m\u001b[1;3m42771458\u001b[0m\n",
      "Thought:\u001b[32;1m\u001b[1;3mThat's the final answer.\n",
      "Action:\n",
      "```\n",
      "{\n",
      "  \"action\": \"Final Answer\",\n",
      "  \"action_input\": \"The final answer is 42771458.\"\n",
      "}\n",
      "```\u001b[0m\n",
      "\n",
      "\u001b[1m> Finished chain.\u001b[0m\n"
     ]
    },
    {
     "data": {
      "text/plain": [
       "'The final answer is 42771458.'"
      ]
     },
     "execution_count": 43,
     "metadata": {},
     "output_type": "execute_result"
    }
   ],
   "source": [
    "agent.run(\"What is the result of 12376*3456 + 2?\")"
   ]
  },
  {
   "cell_type": "code",
   "execution_count": 44,
   "id": "5b81f6ef-c06e-4a2a-8b6a-bc1396de26a6",
   "metadata": {},
   "outputs": [],
   "source": [
    "# multi-input issue: https://github.com/langchain-ai/langchain/issues/3700\n",
    "# Structured tools: https://blog.langchain.dev/structured-tools/"
   ]
  },
  {
   "cell_type": "code",
   "execution_count": null,
   "id": "05c05818-44fb-41c0-9a19-402d0baa37c3",
   "metadata": {},
   "outputs": [],
   "source": []
  }
 ],
 "metadata": {
  "kernelspec": {
   "display_name": "Python 3 (ipykernel)",
   "language": "python",
   "name": "python3"
  },
  "language_info": {
   "codemirror_mode": {
    "name": "ipython",
    "version": 3
   },
   "file_extension": ".py",
   "mimetype": "text/x-python",
   "name": "python",
   "nbconvert_exporter": "python",
   "pygments_lexer": "ipython3",
   "version": "3.10.13"
  }
 },
 "nbformat": 4,
 "nbformat_minor": 5
}
